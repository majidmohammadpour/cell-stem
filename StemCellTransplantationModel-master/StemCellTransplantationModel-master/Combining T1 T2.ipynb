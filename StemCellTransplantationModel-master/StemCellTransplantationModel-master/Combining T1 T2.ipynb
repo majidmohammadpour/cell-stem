{
 "cells": [
  {
   "cell_type": "code",
   "execution_count": 2,
   "metadata": {},
   "outputs": [],
   "source": [
    "import numpy as np, matplotlib.pyplot as plt, networkx as nx, pickle, json, gzip\n",
    "%matplotlib inline"
   ]
  },
  {
   "cell_type": "code",
   "execution_count": 17,
   "metadata": {},
   "outputs": [],
   "source": [
    "name_1=\"./T1_larry_analysis/samp_id_flat.txt\";\n",
    "name_2=\"./T2_larry_analysis/samp_id_flat.txt\";\n",
    "name_3=\"T1T2_samp_id_flat.txt\";\n",
    "f1=open(name_1);\n",
    "f2=open(name_2);\n",
    "f3=open(name_3,\"w\");\n",
    "\n",
    "for l1 in f1:\n",
    "    f3.write(\"T1_\"+l1);\n",
    "    \n",
    "for l2 in f2:\n",
    "    f3.write(\"T2_\"+l2);\n",
    "\n",
    "# data1=f1.read();\n",
    "# data2=f2.read();\n",
    "# new_data=data1+data2;\n",
    "# f3.write(new_data);\n",
    "\n",
    "f1.close()\n",
    "f2.close()\n",
    "f3.close()\n",
    "\n",
    "\n",
    "    "
   ]
  },
  {
   "cell_type": "code",
   "execution_count": 18,
   "metadata": {},
   "outputs": [],
   "source": [
    "name_1=\"./T1_larry_analysis/cell_bcs_flat.txt\";\n",
    "name_2=\"./T2_larry_analysis/cell_bcs_flat.txt\";\n",
    "name_3=\"T1T2_cell_bcs_flat.txt\";\n",
    "f1=open(name_1);\n",
    "f2=open(name_2);\n",
    "f3=open(name_3,\"w\");\n",
    "\n",
    "data1=f1.read();\n",
    "data2=f2.read();\n",
    "new_data=data1+data2;\n",
    "f3.write(new_data);\n",
    "\n",
    "f1.close()\n",
    "f2.close()\n",
    "f3.close()"
   ]
  },
  {
   "cell_type": "code",
   "execution_count": 21,
   "metadata": {},
   "outputs": [
    {
     "name": "stdout",
     "output_type": "stream",
     "text": [
      "bcFICM\n",
      "\n",
      "bcBJHK\n",
      "\n",
      "bcEHXS\n",
      "\n",
      "bcCYGK\n",
      "\n",
      "bcAWZA\n",
      "\n",
      "bcBZKT\n",
      "\n",
      "bcCBVJ\n",
      "\n",
      "bcCUHF\n",
      "\n",
      "bcGJOB\n",
      "\n",
      "bcHLTF\n",
      "\n"
     ]
    }
   ],
   "source": [
    "name_1=\"./T1_larry_analysis/cell_bcs_flat.txt\";\n",
    "# name_2=\"./T2_larry_analysis/cell_bcs_flat.txt\";\n",
    "# name_3=\"cell_bcs_flat.txt\";\n",
    "\n",
    "with open(name_1) as f1:\n",
    "    for i,a in enumerate(f1):\n",
    "        if i<10:\n",
    "            print(a);\n",
    "        else:\n",
    "            break;\n",
    "        \n"
   ]
  },
  {
   "cell_type": "code",
   "execution_count": 23,
   "metadata": {},
   "outputs": [
    {
     "name": "stdout",
     "output_type": "stream",
     "text": [
      "Reading in all barcodes\n",
      "Processed 1000000 reads\n",
      "Processed 2000000 reads\n",
      "Processed 3000000 reads\n",
      "Processed 4000000 reads\n",
      "Processed 5000000 reads\n",
      "Processed 6000000 reads\n",
      "Processed 7000000 reads\n",
      "Processed 8000000 reads\n",
      "Processed 9000000 reads\n",
      "Processed 10000000 reads\n",
      "Processed 11000000 reads\n",
      "Processed 12000000 reads\n",
      "Processed 13000000 reads\n",
      "Processed 14000000 reads\n",
      "Processed 15000000 reads\n",
      "Processed 16000000 reads\n",
      "Processed 17000000 reads\n",
      "Processed 18000000 reads\n",
      "Processed 19000000 reads\n",
      "Processed 20000000 reads\n",
      "Processed 21000000 reads\n",
      "Processed 22000000 reads\n",
      "Processed 23000000 reads\n",
      "Processed 24000000 reads\n",
      "Processed 25000000 reads\n",
      "Processed 26000000 reads\n",
      "Processed 27000000 reads\n",
      "Processed 28000000 reads\n",
      "Processed 29000000 reads\n",
      "Processed 30000000 reads\n",
      "Processed 31000000 reads\n",
      "Processed 32000000 reads\n",
      "Processed 33000000 reads\n"
     ]
    }
   ],
   "source": [
    "## concatenate the two fastq files, and also modify the library name\n",
    "\n",
    "f1 = gzip.open('./T1_larry_analysis/LARRY_sorted_and_filtered_barcodes.fastq.gz') #(\"test.fastq.gz\");\n",
    "f2 = gzip.open('./T2_larry_analysis/LARRY_sorted_and_filtered_barcodes.fastq.gz')\n",
    "f3 = gzip.open('T1T2_LARRY_sorted_and_filtered_barcodes.fastq.gz',\"wb\") #(\"test_new.fastq.gz\",\"wb\");\n",
    "file_handler= [f1,f2]\n",
    "\n",
    "\n",
    "current_tag = []\n",
    "i = 0\n",
    "print('Reading in all barcodes')\n",
    "for k,trans_tag in enumerate([\"T1_\",\"T2_\"]):\n",
    "#    f3.write((\"\\n\\n\").encode('utf-8'));\n",
    "    l = file_handler[k].readline().decode(\"utf-8\")\n",
    "    while not (l == '' and len(current_tag)==0):\n",
    "        i += 1\n",
    "        if i % (3*10**6)==0: print('Processed '+repr(int(i/3))+' reads')\n",
    "        if l==\"\": current_tag = \"\";\n",
    "        if l.startswith(\">\"):\n",
    "            current_tag = \"yes\";\n",
    "            l=\">\"+trans_tag+l[1:];\n",
    "#            print(l)\n",
    "        f3.write(l.encode('utf-8'));\n",
    "\n",
    "        l = file_handler[k].readline().decode(\"utf-8\")\n",
    "        \n",
    "f1.close()\n",
    "f2.close()\n",
    "f3.close()"
   ]
  },
  {
   "cell_type": "code",
   "execution_count": null,
   "metadata": {},
   "outputs": [],
   "source": []
  }
 ],
 "metadata": {
  "kernelspec": {
   "display_name": "Python 3",
   "language": "python",
   "name": "python3"
  },
  "language_info": {
   "codemirror_mode": {
    "name": "ipython",
    "version": 3
   },
   "file_extension": ".py",
   "mimetype": "text/x-python",
   "name": "python",
   "nbconvert_exporter": "python",
   "pygments_lexer": "ipython3",
   "version": "3.7.3"
  }
 },
 "nbformat": 4,
 "nbformat_minor": 2
}
